{
 "cells": [
  {
   "cell_type": "code",
   "execution_count": 1,
   "metadata": {
    "collapsed": true
   },
   "outputs": [],
   "source": [
    "import cv2\n",
    "from moviepy.editor import VideoFileClip\n",
    "import matplotlib.pyplot as plt\n",
    "import matplotlib.image as mpimg\n",
    "import numpy as np"
   ]
  },
  {
   "cell_type": "code",
   "execution_count": 2,
   "metadata": {
    "collapsed": true
   },
   "outputs": [],
   "source": [
    "def RGB2GRAY_func(frame1):\n",
    "    gray1 = cv2.cvtColor(frame1, cv2.COLOR_RGB2GRAY)\n",
    "    return gray1\n",
    " "
   ]
  },
  {
   "cell_type": "code",
   "execution_count": 3,
   "metadata": {
    "collapsed": true
   },
   "outputs": [],
   "source": [
    "def GaussianBlur_func(gray,kernel_size):\n",
    "    blur_gray = cv2.GaussianBlur(gray, (kernel_size, kernel_size), 0)\n",
    "    return blur_gray"
   ]
  },
  {
   "cell_type": "code",
   "execution_count": 4,
   "metadata": {
    "collapsed": true
   },
   "outputs": [],
   "source": [
    "def Canny_func(blur_gray, low_threshold, high_threshold):\n",
    "    edges = cv2.Canny(blur_gray, low_threshold, high_threshold)\n",
    "    return edges"
   ]
  },
  {
   "cell_type": "code",
   "execution_count": 5,
   "metadata": {
    "collapsed": true
   },
   "outputs": [],
   "source": [
    "def FillPoly_func(edges, mask, vertices, ignore_mask_color):\n",
    "    cv2.fillPoly(mask, vertices, ignore_mask_color)\n",
    "    masked_edges = cv2.bitwise_and(edges, mask)\n",
    "    return masked_edges\n"
   ]
  },
  {
   "cell_type": "code",
   "execution_count": 6,
   "metadata": {
    "collapsed": true
   },
   "outputs": [],
   "source": [
    "def HoughLinesP_func(masked_edges, rho, theta, threshold,min_line_length, max_line_gap):\n",
    "    lines = cv2.HoughLinesP(masked_edges, rho, theta, threshold, np.array([]),min_line_length, max_line_gap)\n",
    "    return lines"
   ]
  },
  {
   "cell_type": "code",
   "execution_count": 7,
   "metadata": {
    "collapsed": true
   },
   "outputs": [],
   "source": [
    "def main():\n",
    "    cap = cv2.VideoCapture(\"solidYellowLeft.mp4\")\n",
    "\n",
    "    while(True):\n",
    "        # Take each frame\n",
    "        cv2.waitKey(100)\n",
    "        ret, frame = cap.read()\n",
    "        if ret == True:\n",
    "            gray = RGB2GRAY_func(frame)\n",
    "            # Define a kernel size and apply Gaussian smoothing\n",
    "            kernel_size = 9\n",
    "            blur_gray = GaussianBlur_func(gray,kernel_size)\n",
    "            # Define our parameters for Canny and apply\n",
    "            low_threshold = 50\n",
    "            high_threshold = 150\n",
    "            edges = Canny_func(blur_gray, low_threshold, high_threshold)\n",
    "\n",
    "            mask = np.zeros_like(edges)\n",
    "            ignore_mask_color = 255\n",
    "\n",
    "            # This time we are defining a four sided polygon to mask\n",
    "            imshape = frame.shape\n",
    "            #vertices = np.array([[(0, imshape[0]), (390, 320), (540, 320), (imshape[1], imshape[0])]], dtype=np.int32)\n",
    "            vertices = np.array([[(0, imshape[0]), (378, 344), (540, 320), (imshape[1], imshape[0])]], dtype=np.int32)\n",
    "\n",
    "            masked_edges = FillPoly_func(edges, mask, vertices, ignore_mask_color)\n",
    "\n",
    "            # Define the Hough transform parameters\n",
    "            # Make a blank the same size as our image to draw on\n",
    "            rho = 1 # distance resolution in pixels of the Hough grid\n",
    "            theta = np.pi / 180  # angular resolution in radians of the Hough grid\n",
    "            threshold = 5  # minimum number of votes (intersections in Hough grid cell)\n",
    "            min_line_length = 2 # minimum number of pixels making up a line\n",
    "            max_line_gap = 90  # maximum gap in pixels between connectable line segments\n",
    "            line_image = np.copy(frame) * 0  # creating a blank to draw lines on\n",
    "\n",
    "            # Run Hough on edge detected image\n",
    "            # Output \"lines\" is an array containing endpoints of detected line segments\n",
    "\n",
    "            lines = HoughLinesP_func(masked_edges, rho, theta, threshold,min_line_length, max_line_gap)\n",
    "\n",
    "            # Iterate over the output \"lines\" and draw lines on a blank image\n",
    "            for line in lines:\n",
    "                for x1, y1, x2, y2 in line:\n",
    "                    cv2.line(line_image, (x1, y1), (x2, y2), (255, 0, 0), 4)\n",
    "\n",
    "            # Create a \"color\" binary image to combine with line image\n",
    "            color_edges = np.dstack((edges, edges, edges))\n",
    "\n",
    "            # Draw the lines on the edge image\n",
    "            lines_edges = cv2.addWeighted(frame, 0.7, line_image, 1, 0)\n",
    "            cv2.imshow('frame',frame)\n",
    "            cv2.imshow('lines_edges',lines_edges)\n",
    "                \n",
    "            # Check end of video\n",
    "            if cv2.waitKey(1) & 0xFF == ord('q'):\n",
    "                 break\n",
    "\n",
    "        else:\n",
    "            break\n",
    "    # When everything done, release the capture\n",
    "    cap.release()\n",
    "    cv2.destroyAllWindows()\n"
   ]
  },
  {
   "cell_type": "code",
   "execution_count": 8,
   "metadata": {
    "collapsed": true
   },
   "outputs": [],
   "source": [
    "if __name__ == '__main__':\n",
    "    main() "
   ]
  }
 ],
 "metadata": {
  "kernelspec": {
   "display_name": "Python 3",
   "language": "python",
   "name": "python3"
  },
  "language_info": {
   "codemirror_mode": {
    "name": "ipython",
    "version": 3
   },
   "file_extension": ".py",
   "mimetype": "text/x-python",
   "name": "python",
   "nbconvert_exporter": "python",
   "pygments_lexer": "ipython3",
   "version": "3.6.1"
  }
 },
 "nbformat": 4,
 "nbformat_minor": 2
}
