{
 "cells": [
  {
   "cell_type": "code",
   "execution_count": 1,
   "metadata": {
    "collapsed": true
   },
   "outputs": [],
   "source": [
    "import cv2\n",
    "from moviepy.editor import VideoFileClip\n",
    "import matplotlib.pyplot as plt\n",
    "import matplotlib.image as mpimg\n",
    "from IPython.display import HTML\n",
    "import numpy as np"
   ]
  },
  {
   "cell_type": "code",
   "execution_count": 2,
   "metadata": {
    "collapsed": true
   },
   "outputs": [],
   "source": [
    "def RGB2GRAY_func(frame1):\n",
    "    gray1 = cv2.cvtColor(frame1, cv2.COLOR_RGB2GRAY)\n",
    "    return gray1\n",
    " "
   ]
  },
  {
   "cell_type": "code",
   "execution_count": 3,
   "metadata": {
    "collapsed": true
   },
   "outputs": [],
   "source": [
    "def GaussianBlur_func(gray,kernel_size):\n",
    "    blur_gray = cv2.GaussianBlur(gray, (kernel_size, kernel_size), 0)\n",
    "    return blur_gray"
   ]
  },
  {
   "cell_type": "code",
   "execution_count": 4,
   "metadata": {
    "collapsed": true
   },
   "outputs": [],
   "source": [
    "def Canny_func(blur_gray, low_threshold, high_threshold):\n",
    "    edges = cv2.Canny(blur_gray, low_threshold, high_threshold)\n",
    "    return edges"
   ]
  },
  {
   "cell_type": "code",
   "execution_count": 5,
   "metadata": {
    "collapsed": true
   },
   "outputs": [],
   "source": [
    "def FillPoly_func(edges, mask, vertices, ignore_mask_color):\n",
    "    cv2.fillPoly(mask, vertices, ignore_mask_color)\n",
    "    masked_edges = cv2.bitwise_and(edges, mask)\n",
    "    return masked_edges\n"
   ]
  },
  {
   "cell_type": "code",
   "execution_count": 6,
   "metadata": {
    "collapsed": true
   },
   "outputs": [],
   "source": [
    "def HoughLinesP_func(masked_edges, rho, theta, threshold,min_line_length, max_line_gap):\n",
    "    lines = cv2.HoughLinesP(masked_edges, rho, theta, threshold, np.array([]),min_line_length, max_line_gap)\n",
    "    return lines"
   ]
  },
  {
   "cell_type": "code",
   "execution_count": 7,
   "metadata": {
    "collapsed": true
   },
   "outputs": [],
   "source": [
    "def draw_lines(img, lines, color=[255, 0, 0], thickness=10):\n",
    "    \"\"\"\n",
    "    NOTE: this is the function you might want to use as a starting point once you want to \n",
    "    average/extrapolate the line segments you detect to map out the full\n",
    "    extent of the lane.\n",
    "    Think about things like separating line segments by their \n",
    "    slope ((y2-y1)/(x2-x1)) to decide which segments are part of the left\n",
    "    line vs. the right line.  Then, you can average the position of each of \n",
    "    the lines and extrapolate to the top and bottom of the lane.\n",
    "\n",
    "    This function draws `lines` with `color` and `thickness`.\n",
    "    Lines are drawn on the image inplace (mutates the image).\n",
    "\n",
    "    \"\"\"\n",
    "    # In case of error, don't draw the line(s)\n",
    "    if lines is None:\n",
    "        return\n",
    "    if len(lines) == 0:\n",
    "        return\n",
    "    draw_right = True\n",
    "    draw_left = True\n",
    "\n",
    "    # Find slopes of all lines\n",
    "    # But only care about lines where abs(slope) > slope_threshold\n",
    "    slope_threshold = 0.6\n",
    "    slopes = []\n",
    "    new_lines = []\n",
    "    for line in lines:\n",
    "        x1, y1, x2, y2 = line[0]  # line = [[x1, y1, x2, y2]]\n",
    "\n",
    "        # Calculate slope\n",
    "        if x2 - x1 == 0.:  # corner case, avoiding division by 0\n",
    "            slope = 999.  # practically infinite slope\n",
    "        else:\n",
    "            slope = (y2 - y1) / (x2 - x1)\n",
    "\n",
    "        # Filter lines based on slope\n",
    "        if abs(slope) > slope_threshold:\n",
    "            slopes.append(slope)\n",
    "            new_lines.append(line)\n",
    "\n",
    "    lines = new_lines\n",
    "\n",
    "    # Split lines into right_lines and left_lines, representing the right and left lane lines\n",
    "    # Right/left lane lines must have positive/negative slope, and be on the right/left half of the image\n",
    "    right_lines = []\n",
    "    left_lines = []\n",
    "    for i, line in enumerate(lines):\n",
    "        x1, y1, x2, y2 = line[0]\n",
    "        img_x_center = img.shape[1] / 2  # x coordinate of center of image\n",
    "        if slopes[i] > 0 and x1 > img_x_center and x2 > img_x_center:\n",
    "            right_lines.append(line)\n",
    "        elif slopes[i] < 0 and x1 < img_x_center and x2 < img_x_center:\n",
    "            left_lines.append(line)\n",
    "\n",
    "    # Run linear regression to find best fit line for right and left lane lines\n",
    "    # Right lane lines\n",
    "    right_lines_x = []\n",
    "    right_lines_y = []\n",
    "\n",
    "    for line in right_lines:\n",
    "        x1, y1, x2, y2 = line[0]\n",
    "\n",
    "        right_lines_x.append(x1)\n",
    "        right_lines_x.append(x2)\n",
    "\n",
    "        right_lines_y.append(y1)\n",
    "        right_lines_y.append(y2)\n",
    "\n",
    "    if len(right_lines_x) > 0:\n",
    "        right_m, right_b = np.polyfit(right_lines_x, right_lines_y, 1)  # y = m*x + b\n",
    "    else:\n",
    "        right_m, right_b = 1, 1\n",
    "        draw_right = False\n",
    "\n",
    "    # Left lane lines\n",
    "    left_lines_x = []\n",
    "    left_lines_y = []\n",
    "\n",
    "    for line in left_lines:\n",
    "        x1, y1, x2, y2 = line[0]\n",
    "\n",
    "        left_lines_x.append(x1)\n",
    "        left_lines_x.append(x2)\n",
    "\n",
    "        left_lines_y.append(y1)\n",
    "        left_lines_y.append(y2)\n",
    "\n",
    "    if len(left_lines_x) > 0:\n",
    "        left_m, left_b = np.polyfit(left_lines_x, left_lines_y,1)  # y = m*x + b\n",
    "    else:\n",
    "        left_m, left_b = 1, 1\n",
    "        draw_left = False\n",
    "\n",
    "    # Find 2 end points for right and left lines, used for drawing the line\n",
    "    # y = m*x + b --> x = (y - b)/m\n",
    "    y1 = img.shape[0]\n",
    "    y2 = img.shape[0] * (1 - 0.38)\n",
    "\n",
    "    right_x1 = (y1 - right_b) / right_m\n",
    "    right_x2 = (y2 - right_b) / right_m\n",
    "\n",
    "    left_x1 = (y1 - left_b) / left_m\n",
    "    left_x2 = (y2 - left_b) / left_m\n",
    "\n",
    "    # Convert calculated end points from float to int\n",
    "    y1 = int(y1)\n",
    "    y2 = int(y2)\n",
    "    right_x1 = int(right_x1)\n",
    "    right_x2 = int(right_x2)\n",
    "    left_x1 = int(left_x1)\n",
    "    left_x2 = int(left_x2)\n",
    "\n",
    "    # Draw the right and left lines on image\n",
    "\n",
    "    if draw_left:\n",
    "        cv2.line(img, (left_x1, y1), (left_x2, y2), color, thickness)\n",
    "    if draw_right:\n",
    "        cv2.line(img, (right_x1+1, y1), (right_x2+1, y2), color, thickness)"
   ]
  },
  {
   "cell_type": "code",
   "execution_count": 8,
   "metadata": {
    "collapsed": true
   },
   "outputs": [],
   "source": [
    "def process_image(frame):\n",
    "    gray = RGB2GRAY_func(frame)\n",
    "    # Define a kernel size and apply Gaussian smoothing\n",
    "    kernel_size = 3\n",
    "    blur_gray = GaussianBlur_func(gray,kernel_size)\n",
    "    # Define our parameters for Canny and apply\n",
    "    low_threshold = 50\n",
    "    high_threshold = 150\n",
    "    edges = Canny_func(blur_gray, low_threshold, high_threshold)\n",
    "\n",
    "    mask = np.zeros_like(edges)\n",
    "    ignore_mask_color = 255\n",
    "\n",
    "    # This time we are defining a four sided polygon to mask\n",
    "    imshape = frame.shape\n",
    "    #vertices = np.array([[(0, imshape[0]), (390, 320), (540, 320), (imshape[1], imshape[0])]], dtype=np.int32)\n",
    "    vertices = np.array([[(0, imshape[0]), (378, 344), (540, 320), (imshape[1], imshape[0])]], dtype=np.int32)\n",
    "\n",
    "    masked_edges = FillPoly_func(edges, mask, vertices, ignore_mask_color)\n",
    "\n",
    "    # Define the Hough transform parameters\n",
    "    # Make a blank the same size as our image to draw on\n",
    "    rho = 3 # distance resolution in pixels of the Hough grid\n",
    "    theta = np.pi / 30  # angular resolution in radians of the Hough grid\n",
    "    threshold = 1  # minimum number of votes (intersections in Hough grid cell)\n",
    "    min_line_length = 5 # minimum number of pixels making up a line\n",
    "    max_line_gap = 80  # maximum gap in pixels between connectable line segments\n",
    "    line_image = np.copy(frame) * 0  # creating a blank to draw lines on\n",
    "\n",
    "    # Run Hough on edge detected image\n",
    "    # Output \"lines\" is an array containing endpoints of detected line segments\n",
    "\n",
    "    lines = HoughLinesP_func(masked_edges, rho, theta, threshold,min_line_length, max_line_gap)\n",
    "\n",
    "    # Iterate over the output \"lines\" and draw lines on a blank image\n",
    "    draw_lines(line_image, lines)\n",
    "    \n",
    "    # Create a \"color\" binary image to combine with line image\n",
    "    color_edges = np.dstack((edges, edges, edges))\n",
    "\n",
    "    # Draw the lines on the edge image\n",
    "    lines_edges = cv2.addWeighted(frame, 0.7, line_image, 1, 0)\n",
    "    #cv2.imshow('frame',frame)\n",
    "    #cv2.imshow('lines_edges',lines_edges)\n",
    "                        \n",
    "    return lines_edges\n"
   ]
  },
  {
   "cell_type": "code",
   "execution_count": 9,
   "metadata": {
    "collapsed": true
   },
   "outputs": [],
   "source": [
    "def main():\n",
    "    white_output = \"solidYellowLeft_OutPut.mp4\"\n",
    "    clip1 = VideoFileClip(\"solidYellowLeft.mp4\")\n",
    "    white_clip = clip1.fl_image(process_image) #NOTE: this function expects color images!!\n",
    "    %time white_clip.write_videofile(white_output, audio=False)"
   ]
  },
  {
   "cell_type": "code",
   "execution_count": 10,
   "metadata": {},
   "outputs": [
    {
     "name": "stdout",
     "output_type": "stream",
     "text": [
      "[MoviePy] >>>> Building video solidYellowLeft_OutPut.mp4\n",
      "[MoviePy] Writing video solidYellowLeft_OutPut.mp4\n"
     ]
    },
    {
     "name": "stderr",
     "output_type": "stream",
     "text": [
      "100%|███████████████████████████████████████▉| 681/682 [00:13<00:00, 52.28it/s]\n"
     ]
    },
    {
     "name": "stdout",
     "output_type": "stream",
     "text": [
      "[MoviePy] Done.\n",
      "[MoviePy] >>>> Video ready: solidYellowLeft_OutPut.mp4 \n",
      "\n",
      "Wall time: 13.4 s\n"
     ]
    }
   ],
   "source": [
    "if __name__ == '__main__':\n",
    "    main() "
   ]
  }
 ],
 "metadata": {
  "kernelspec": {
   "display_name": "Python 3",
   "language": "python",
   "name": "python3"
  },
  "language_info": {
   "codemirror_mode": {
    "name": "ipython",
    "version": 3
   },
   "file_extension": ".py",
   "mimetype": "text/x-python",
   "name": "python",
   "nbconvert_exporter": "python",
   "pygments_lexer": "ipython3",
   "version": "3.6.1"
  }
 },
 "nbformat": 4,
 "nbformat_minor": 2
}
